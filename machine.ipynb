{
 "cells": [
  {
   "cell_type": "code",
   "execution_count": 2,
   "id": "eb2bbfe8-ab0e-4fad-81f9-4c47807bc868",
   "metadata": {
    "scrolled": true
   },
   "outputs": [
    {
     "data": {
      "text/html": [
       "<div>\n",
       "<style scoped>\n",
       "    .dataframe tbody tr th:only-of-type {\n",
       "        vertical-align: middle;\n",
       "    }\n",
       "\n",
       "    .dataframe tbody tr th {\n",
       "        vertical-align: top;\n",
       "    }\n",
       "\n",
       "    .dataframe thead th {\n",
       "        text-align: right;\n",
       "    }\n",
       "</style>\n",
       "<table border=\"1\" class=\"dataframe\">\n",
       "  <thead>\n",
       "    <tr style=\"text-align: right;\">\n",
       "      <th></th>\n",
       "      <th>Category</th>\n",
       "      <th>Message</th>\n",
       "      <th>verdict</th>\n",
       "    </tr>\n",
       "  </thead>\n",
       "  <tbody>\n",
       "    <tr>\n",
       "      <th>0</th>\n",
       "      <td>ham</td>\n",
       "      <td>Go until jurong point, crazy.. Available only ...</td>\n",
       "      <td>0</td>\n",
       "    </tr>\n",
       "    <tr>\n",
       "      <th>1</th>\n",
       "      <td>ham</td>\n",
       "      <td>Ok lar... Joking wif u oni...</td>\n",
       "      <td>0</td>\n",
       "    </tr>\n",
       "    <tr>\n",
       "      <th>2</th>\n",
       "      <td>spam</td>\n",
       "      <td>Free entry in 2 a wkly comp to win FA Cup fina...</td>\n",
       "      <td>1</td>\n",
       "    </tr>\n",
       "    <tr>\n",
       "      <th>3</th>\n",
       "      <td>ham</td>\n",
       "      <td>U dun say so early hor... U c already then say...</td>\n",
       "      <td>0</td>\n",
       "    </tr>\n",
       "    <tr>\n",
       "      <th>4</th>\n",
       "      <td>ham</td>\n",
       "      <td>Nah I don't think he goes to usf, he lives aro...</td>\n",
       "      <td>0</td>\n",
       "    </tr>\n",
       "  </tbody>\n",
       "</table>\n",
       "</div>"
      ],
      "text/plain": [
       "  Category                                            Message  verdict\n",
       "0      ham  Go until jurong point, crazy.. Available only ...        0\n",
       "1      ham                      Ok lar... Joking wif u oni...        0\n",
       "2     spam  Free entry in 2 a wkly comp to win FA Cup fina...        1\n",
       "3      ham  U dun say so early hor... U c already then say...        0\n",
       "4      ham  Nah I don't think he goes to usf, he lives aro...        0"
      ]
     },
     "execution_count": 2,
     "metadata": {},
     "output_type": "execute_result"
    }
   ],
   "source": [
    "import pandas as pd\n",
    "data = pd.read_csv(\"spam.csv\")\n",
    "data.head()\n",
    "data.groupby('Category').describe()\n",
    "data['verdict']=data['Category'].apply(lambda x: 1 if x=='spam' else 0)\n",
    "data.head()"
   ]
  },
  {
   "cell_type": "code",
   "execution_count": 36,
   "id": "e6761057-edc9-412d-a724-7f2981b5a143",
   "metadata": {},
   "outputs": [],
   "source": [
    "from sklearn.model_selection import train_test_split\n",
    "from sklearn.feature_extraction.text import CountVectorizer\n",
    "from sklearn.naive_bayes import MultinomialNB\n",
    "X_train, X_test, y_train, y_test = train_test_split(data.Message,data.verdict)\n",
    "v = CountVectorizer()\n",
    "X_train_count = v.fit_transform(X_train.values)\n",
    "X_train_count.toarray()[:2]\n",
    "model = MultinomialNB()\n",
    "model.fit(X_train_count,y_train)\n",
    "emails = [\n",
    "    'Frii diskount here, bi fast',\n",
    "    'click here to receive a free reward',\n",
    "    'your car warranty is expired',\n",
    "    'Do not fall for this trick!',\n",
    "    'this is how much Dave saved with this simple trick',\n",
    "    'you will not believe how simple this is!',\n",
    "    'get your once a year discount today!',\n",
    "    'receive your 30% discount here from your next product',\n",
    "    'get your once a year discount today! Do not miss out on this HUGE oppurtunity!',\n",
    "]"
   ]
  },
  {
   "cell_type": "code",
   "execution_count": 37,
   "id": "9cf4cd10-7388-48c1-b3ba-e76ceb42b1d4",
   "metadata": {},
   "outputs": [
    {
     "data": {
      "text/plain": [
       "(array([0, 1, 0, 0, 0, 0, 0, 1, 0], dtype=int64), 0.9842067480258435)"
      ]
     },
     "execution_count": 37,
     "metadata": {},
     "output_type": "execute_result"
    }
   ],
   "source": [
    "emails_count = v.transform(emails)\n",
    "X_test_count = v.transform(X_test)\n",
    "model.predict(emails_count), model.score(X_test_count, y_test)"
   ]
  },
  {
   "cell_type": "code",
   "execution_count": 38,
   "id": "2a5b681d-e282-46d1-b4f7-08e409cb7cac",
   "metadata": {},
   "outputs": [
    {
     "data": {
      "text/html": [
       "<div>\n",
       "<style scoped>\n",
       "    .dataframe tbody tr th:only-of-type {\n",
       "        vertical-align: middle;\n",
       "    }\n",
       "\n",
       "    .dataframe tbody tr th {\n",
       "        vertical-align: top;\n",
       "    }\n",
       "\n",
       "    .dataframe thead th {\n",
       "        text-align: right;\n",
       "    }\n",
       "</style>\n",
       "<table border=\"1\" class=\"dataframe\">\n",
       "  <thead>\n",
       "    <tr style=\"text-align: right;\">\n",
       "      <th></th>\n",
       "      <th>text</th>\n",
       "      <th>label</th>\n",
       "      <th>verdict</th>\n",
       "    </tr>\n",
       "  </thead>\n",
       "  <tbody>\n",
       "    <tr>\n",
       "      <th>0</th>\n",
       "      <td>Deezer.com 10,406,168 Artist DB\\n\\nWe have sc...</td>\n",
       "      <td>not_spam</td>\n",
       "      <td>0</td>\n",
       "    </tr>\n",
       "    <tr>\n",
       "      <th>1</th>\n",
       "      <td>🚨 ATTENTION ALL USERS! 🚨\\n\\n🆘 Are you looking ...</td>\n",
       "      <td>spam</td>\n",
       "      <td>1</td>\n",
       "    </tr>\n",
       "    <tr>\n",
       "      <th>2</th>\n",
       "      <td>I'm working on a stats project to test some of...</td>\n",
       "      <td>not_spam</td>\n",
       "      <td>0</td>\n",
       "    </tr>\n",
       "    <tr>\n",
       "      <th>3</th>\n",
       "      <td>[[Sorry, I cannot generate inappropriate or sp...</td>\n",
       "      <td>spam</td>\n",
       "      <td>1</td>\n",
       "    </tr>\n",
       "    <tr>\n",
       "      <th>4</th>\n",
       "      <td>L@@k at these Unbelievable diet pills that can...</td>\n",
       "      <td>spam</td>\n",
       "      <td>1</td>\n",
       "    </tr>\n",
       "  </tbody>\n",
       "</table>\n",
       "</div>"
      ],
      "text/plain": [
       "                                                text     label  verdict\n",
       "0   Deezer.com 10,406,168 Artist DB\\n\\nWe have sc...  not_spam        0\n",
       "1  🚨 ATTENTION ALL USERS! 🚨\\n\\n🆘 Are you looking ...      spam        1\n",
       "2  I'm working on a stats project to test some of...  not_spam        0\n",
       "3  [[Sorry, I cannot generate inappropriate or sp...      spam        1\n",
       "4  L@@k at these Unbelievable diet pills that can...      spam        1"
      ]
     },
     "execution_count": 38,
     "metadata": {},
     "output_type": "execute_result"
    }
   ],
   "source": [
    "data2 = pd.read_parquet('spam2.parquet', engine='fastparquet')\n",
    "data2.head()\n",
    "data2.groupby('label').describe()\n",
    "data2['verdict']=data2['label'].apply(lambda x: 1 if x=='spam' else 0)\n",
    "data2.head()"
   ]
  },
  {
   "cell_type": "code",
   "execution_count": 39,
   "id": "eb7cc1f4-5093-4e44-87f9-4123b9c91809",
   "metadata": {},
   "outputs": [
    {
     "data": {
      "text/plain": [
       "(array([1, 1, 1, 1, 0, 1, 1, 1, 1], dtype=int64), 0.9956011730205279)"
      ]
     },
     "execution_count": 39,
     "metadata": {},
     "output_type": "execute_result"
    }
   ],
   "source": [
    "X_train, X_test, y_train, y_test = train_test_split(data2.text,data2.verdict)\n",
    "v = CountVectorizer()\n",
    "X_train_count = v.fit_transform(X_train.values)\n",
    "X_train_count.toarray()[:2]\n",
    "model = MultinomialNB()\n",
    "model.fit(X_train_count,y_train)\n",
    "emails_count = v.transform(emails)\n",
    "X_test_count = v.transform(X_test)\n",
    "model.predict(emails_count), model.score(X_test_count, y_test)"
   ]
  },
  {
   "cell_type": "code",
   "execution_count": 41,
   "id": "63b4498a-3626-46e4-ad74-fd973ef27e39",
   "metadata": {},
   "outputs": [
    {
     "name": "stdout",
     "output_type": "stream",
     "text": [
      "Email: 'Frii diskount here, bi fast' is classified as Non-Spam\n",
      "Email: 'click here to receive a free reward' is classified as Spam\n",
      "Email: 'your car warranty is expired' is classified as Non-Spam\n",
      "Email: 'Do not fall for this trick!' is classified as Spam\n",
      "Email: 'this is how much Dave saved with this simple trick' is classified as Spam\n",
      "Email: 'you will not believe how simple this is!' is classified as Spam\n",
      "Email: 'get your once a year discount today!' is classified as Spam\n",
      "Email: 'receive your 30% discount here from your next product' is classified as Spam\n",
      "Email: 'get your once a year discount today! Do not miss out on this HUGE oppurtunity!' is classified as Spam\n"
     ]
    }
   ],
   "source": [
    "from sentence_transformers import SentenceTransformer\n",
    "import joblib\n",
    "\n",
    "# Load the pre-trained model\n",
    "model = SentenceTransformer('sentence-transformers/all-MiniLM-L6-v2')\n",
    "\n",
    "# Load the saved classifier model\n",
    "classifier = joblib.load('spam_classifier_model.pkl')\n",
    "\n",
    "# Generate embeddings for the new emails\n",
    "emails = [\n",
    "    'Frii diskount here, bi fast',\n",
    "    'click here to receive a free reward',\n",
    "    'your car warranty is expired',\n",
    "    'Do not fall for this trick!',\n",
    "    'this is how much Dave saved with this simple trick',\n",
    "    'you will not believe how simple this is!',\n",
    "    'get your once a year discount today!',\n",
    "    'receive your 30% discount here from your next product',\n",
    "    'get your once a year discount today! Do not miss out on this HUGE oppurtunity!'\n",
    "]\n",
    "email_embeddings = model.encode(emails)\n",
    "\n",
    "# Predict the labels for the new emails\n",
    "email_predictions = classifier.predict(email_embeddings)\n",
    "\n",
    "# Print the predictions\n",
    "for email, prediction in zip(emails, email_predictions):\n",
    "    label = 'Spam' if prediction == 1 else 'Non-Spam'\n",
    "    print(f\"Email: '{email}' is classified as {label}\")\n",
    "       "
   ]
  }
 ],
 "metadata": {
  "kernelspec": {
   "display_name": "Python 3 (ipykernel)",
   "language": "python",
   "name": "python3"
  },
  "language_info": {
   "codemirror_mode": {
    "name": "ipython",
    "version": 3
   },
   "file_extension": ".py",
   "mimetype": "text/x-python",
   "name": "python",
   "nbconvert_exporter": "python",
   "pygments_lexer": "ipython3",
   "version": "3.12.2"
  }
 },
 "nbformat": 4,
 "nbformat_minor": 5
}
