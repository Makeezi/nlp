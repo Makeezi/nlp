{
 "cells": [
  {
   "cell_type": "code",
   "execution_count": 7,
   "id": "c063b688-846f-4ecb-9936-a78138cb957f",
   "metadata": {},
   "outputs": [
    {
     "name": "stdout",
     "output_type": "stream",
     "text": [
      "Accuracy: 0.9963302752293578\n",
      "              precision    recall  f1-score   support\n",
      "\n",
      "    Non-Spam       1.00      0.99      1.00       273\n",
      "        Spam       0.99      1.00      1.00       272\n",
      "\n",
      "    accuracy                           1.00       545\n",
      "   macro avg       1.00      1.00      1.00       545\n",
      "weighted avg       1.00      1.00      1.00       545\n",
      "\n"
     ]
    }
   ],
   "source": [
    "from sentence_transformers import SentenceTransformer\n",
    "from sklearn.linear_model import LogisticRegression\n",
    "from sklearn.metrics import accuracy_score, classification_report\n",
    "from sklearn.model_selection import train_test_split\n",
    "import pandas as pd\n",
    "import joblib\n",
    "\n",
    "# Load the pre-trained model\n",
    "model = SentenceTransformer('sentence-transformers/all-MiniLM-L6-v2')\n",
    "\n",
    "# Load the dataset\n",
    "data2 = pd.read_parquet('spam2.parquet', engine='fastparquet')\n",
    "data2['verdict'] = data2['label'].apply(lambda x: 1 if x == 'spam' else 0)\n",
    "\n",
    "# Generate embeddings for the dataset\n",
    "embeddings = model.encode(data2['text'].tolist())\n",
    "\n",
    "# Split the data into training and test sets\n",
    "X_train, X_test, y_train, y_test = train_test_split(embeddings, data2['verdict'], test_size=0.2, random_state=42)\n",
    "\n",
    "# Train a logistic regression classifier\n",
    "classifier = LogisticRegression()\n",
    "classifier.fit(X_train, y_train)\n",
    "# Save the trained model\n",
    "joblib.dump(classifier, 'spam_classifier_model.pkl')\n",
    "\n",
    "# Predict on the test set\n",
    "y_pred = classifier.predict(X_test)\n",
    "\n",
    "# Evaluate the classifier\n",
    "accuracy = accuracy_score(y_test, y_pred)\n",
    "print(f\"Accuracy: {accuracy}\")\n",
    "\n",
    "# Print classification report\n",
    "print(classification_report(y_test, y_pred, target_names=['Non-Spam', 'Spam']))"
   ]
  }
 ],
 "metadata": {
  "kernelspec": {
   "display_name": "Python 3 (ipykernel)",
   "language": "python",
   "name": "python3"
  },
  "language_info": {
   "codemirror_mode": {
    "name": "ipython",
    "version": 3
   },
   "file_extension": ".py",
   "mimetype": "text/x-python",
   "name": "python",
   "nbconvert_exporter": "python",
   "pygments_lexer": "ipython3",
   "version": "3.12.2"
  }
 },
 "nbformat": 4,
 "nbformat_minor": 5
}
